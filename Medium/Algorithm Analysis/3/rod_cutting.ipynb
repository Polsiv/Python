{
 "cells": [
  {
   "cell_type": "code",
   "execution_count": 1,
   "metadata": {
    "id": "n2TmrStVmVPe"
   },
   "outputs": [],
   "source": [
    "#implementación recursiva approach top-down: p: precio, n:tamaño de la varilla\n",
    "import math\n",
    "def cut_rod(p,n):\n",
    "  if n==0:\n",
    "    return 0\n",
    "  q = -math.inf\n",
    "  for i in range(1,n+1):\n",
    "    q = max(q,p[i-1]+cut_rod(p,n-i))\n",
    "  return q"
   ]
  },
  {
   "cell_type": "code",
   "execution_count": 51,
   "metadata": {
    "id": "98zPy7JEqbov"
   },
   "outputs": [],
   "source": [
    "#memoizacion\n",
    "def memo_cut_rod(p,n):\n",
    "  r=[-1]*n\n",
    "  for i in range(0,n):\n",
    "    r[i]=-math.inf\n",
    "  return memo_cut_rod_aux(p,n,r)\n",
    "\n",
    "def memo_cut_rod_aux(p,n,r):\n",
    "  if r[n-1]>=0:\n",
    "    return r[n-1]\n",
    "  if n==0:\n",
    "    q=0\n",
    "  else:\n",
    "    q=-math.inf\n",
    "    for i in range(1,n+1):\n",
    "      q = max(q,p[i-1]+memo_cut_rod_aux(p,n-i,r))\n",
    "  r[n-1]=q\n",
    "  return q\n",
    "\n"
   ]
  },
  {
   "cell_type": "code",
   "execution_count": 133,
   "metadata": {
    "id": "nYZaSZtKsoN2"
   },
   "outputs": [],
   "source": [
    "#iterativo approach bottom-up\n",
    "def bottom_up_cut_rod(p,n):\n",
    "  r=[0]*n\n",
    "  for j in range (1,n+1): #varilla actual\n",
    "    q=-math.inf\n",
    "    for i in range(1,j+1):\n",
    "      q = max(q,p[i-1]+r[j-i-1])\n",
    "    r[j-1]=q\n",
    "  return r[n-1]\n",
    "\n"
   ]
  },
  {
   "cell_type": "code",
   "execution_count": 134,
   "metadata": {
    "id": "wJFU_DduxBug"
   },
   "outputs": [],
   "source": [
    "#approach bottom-up extendido\n",
    "def ext_bottom_up_cut_rod(p,n):\n",
    "  r=[0]*n\n",
    "  s=[0]*n  #cortes que se hicieron\n",
    "  for j in range (1,n+1): #varilla actual\n",
    "    q=-math.inf\n",
    "    for i in range(1,j+1):\n",
    "      if q < p[i-1]+r[j-i-1]:\n",
    "        q = p[i-1]+r[j-i-1]\n",
    "        s[j-1] = i-1\n",
    "    r[j-1]=q\n",
    "  return r,s\n",
    "\n",
    "def print_cut_rod_solution(p,n):\n",
    "  r,s = ext_bottom_up_cut_rod(p,n)\n",
    "  while n>0:\n",
    "    print(\" \",s[n-1])\n",
    "    n = n-s[n-1]"
   ]
  },
  {
   "cell_type": "code",
   "execution_count": 135,
   "metadata": {
    "colab": {
     "base_uri": "https://localhost:8080/"
    },
    "id": "Ad4rQcW4mie0",
    "outputId": "94e68471-d573-41b4-84ca-4c038d80c445"
   },
   "outputs": [
    {
     "name": "stdout",
     "output_type": "stream",
     "text": [
      "30\n",
      "memoizacion  30\n",
      "iterativo  30\n",
      "Solucion optima  [1, 5, 8, 10, 13, 17, 18, 22, 25, 30]\n",
      "cortes: [0, 1, 2, 1, 1, 5, 0, 1, 2, 9]\n"
     ]
    }
   ],
   "source": [
    "p=[1,5,8,9,10,17,17,20,24,30]\n",
    "n=10\n",
    "r=cut_rod(p,n)\n",
    "print(r)\n",
    "\n",
    "r=memo_cut_rod(p,n)\n",
    "print(\"memoizacion \",r)\n",
    "\n",
    "r=bottom_up_cut_rod(p,n)\n",
    "print(\"iterativo \",r)\n",
    "\n",
    "r,s=ext_bottom_up_cut_rod(p,n)\n",
    "print(\"Solucion optima \",r)\n",
    "print(\"cortes:\",s)\n",
    "\n",
    "#print_cut_rod_solution(p,n)"
   ]
  }
 ],
 "metadata": {
  "colab": {
   "provenance": []
  },
  "kernelspec": {
   "display_name": "manimenv",
   "language": "python",
   "name": "python3"
  },
  "language_info": {
   "codemirror_mode": {
    "name": "ipython",
    "version": 3
   },
   "file_extension": ".py",
   "mimetype": "text/x-python",
   "name": "python",
   "nbconvert_exporter": "python",
   "pygments_lexer": "ipython3",
   "version": "3.11.4"
  }
 },
 "nbformat": 4,
 "nbformat_minor": 0
}
