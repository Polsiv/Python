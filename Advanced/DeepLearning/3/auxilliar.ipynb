{
 "cells": [
  {
   "cell_type": "markdown",
   "id": "58c774fa",
   "metadata": {},
   "source": [
    "## Quick Debug Function"
   ]
  },
  {
   "cell_type": "code",
   "execution_count": null,
   "id": "99d8afde",
   "metadata": {},
   "outputs": [],
   "source": [
    "def debug_volume(volume, label):\n",
    "    \"\"\"Quick debug to understand the volume structure\"\"\"\n",
    "    print(f\"Label: {label}\")\n",
    "    print(f\"Volume type: {type(volume)}\")\n",
    "    print(f\"Volume shape: {volume.shape}\")\n",
    "    print(f\"Volume dtype: {volume.dtype}\")\n",
    "    print(f\"Value range: [{volume.min():.1f}, {volume.max():.1f}]\")\n",
    "    \n",
    "    # Check if it's a tensor or numpy array\n",
    "    if hasattr(volume, 'numpy'):\n",
    "        print(\"It's a PyTorch tensor\")\n",
    "        volume_np = volume.numpy()\n",
    "    else:\n",
    "        print(\"It's a numpy array\")\n",
    "        volume_np = volume\n",
    "    \n",
    "    print(f\"After conversion - Shape: {volume_np.shape}\")\n",
    "    return volume_np\n",
    "\n",
    "# Test it\n",
    "volume, label = dataset[0]\n",
    "volume_np = debug_volume(volume, label)"
   ]
  }
 ],
 "metadata": {
  "language_info": {
   "name": "python"
  }
 },
 "nbformat": 4,
 "nbformat_minor": 5
}
